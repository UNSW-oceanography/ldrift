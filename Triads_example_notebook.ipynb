{
 "cells": [
  {
   "cell_type": "markdown",
   "metadata": {},
   "source": [
    "# DRIFTER TRIAD ANALYSIS #"
   ]
  },
  {
   "cell_type": "code",
   "execution_count": null,
   "metadata": {},
   "outputs": [],
   "source": [
    "####################\n",
    "#lib imports   #####\n",
    "####################\n",
    "# Data manipulation\n",
    "import numpy as np\n",
    "import xarray as xr\n",
    "#import awkward as ak\n",
    "import pandas as pd\n",
    "import geopandas as gpd\n",
    "\n",
    "# visualization\n",
    "import matplotlib as mpl\n",
    "import matplotlib.pyplot as plt\n",
    "import matplotlib.colors as colors\n",
    "from mpl_toolkits.axes_grid1 import make_axes_locatable\n",
    "from matplotlib.ticker import MaxNLocator\n",
    "from matplotlib.ticker import MultipleLocator\n",
    "from matplotlib.ticker import FormatStrFormatter\n",
    "import cartopy.crs as ccrs\n",
    "from cartopy.mpl.ticker import LongitudeFormatter, LatitudeFormatter\n",
    "import cartopy.feature as cfeature\n",
    "import seaborn as sns\n",
    "import cmocean\n",
    "import colormaps as cmaps\n",
    "import matplotlib.animation as animation # For animations\n",
    "from PIL import Image # For animations"
   ]
  },
  {
   "cell_type": "code",
   "execution_count": null,
   "metadata": {},
   "outputs": [],
   "source": [
    "from ldrift import drift_funcs as ld\n",
    "from ldrift import triad_funcs as td"
   ]
  },
  {
   "cell_type": "code",
   "execution_count": null,
   "metadata": {},
   "outputs": [],
   "source": [
    "# Open datasets\n",
    "path = 'C:/Users/z5493451/OneDrive - UNSW/Documents/Data/Drifters/'\n",
    "fig_path = 'C:/Users/z5493451/OneDrive - UNSW/Documents/Ooni/UNSW/PhD/Figures/'\n",
    "\n",
    "file = 'IN2017_V04_Drifters_c.nc'\n",
    "fileloc_1 = path+file\n",
    "\n",
    "ds = xr.open_dataset(fileloc_1)\n",
    "ds"
   ]
  },
  {
   "cell_type": "code",
   "execution_count": null,
   "metadata": {},
   "outputs": [],
   "source": [
    "chance_pairs = ld.find_chance_pairs(ds)\n",
    "chance_triads = td.chance_triads(pair_df=chance_pairs)\n",
    "chance_triads"
   ]
  },
  {
   "cell_type": "code",
   "execution_count": null,
   "metadata": {},
   "outputs": [],
   "source": [
    "triad_datasets = td.triad_datasets(chance_triads=chance_triads)\n",
    "triad_datasets['Triad'][0]\n",
    "ld.driftplot(ds=triad_datasets['Dataset'][0])"
   ]
  }
 ],
 "metadata": {
  "language_info": {
   "name": "python"
  }
 },
 "nbformat": 4,
 "nbformat_minor": 2
}
